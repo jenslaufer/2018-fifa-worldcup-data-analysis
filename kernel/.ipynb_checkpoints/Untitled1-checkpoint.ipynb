{
 "cells": [
  {
   "cell_type": "code",
   "execution_count": 10,
   "metadata": {
    "scrolled": true
   },
   "outputs": [
    {
     "name": "stdout",
     "output_type": "stream",
     "text": [
      "                    `Overall`= ifelse(is.na(`Overall`), median(`Overall`, na.rm=TRUE),`Overall`),\n",
      "                    `Value`= ifelse(is.na(`Value`), median(`Value`, na.rm=TRUE),`Value`),\n",
      "                    `Wage`= ifelse(is.na(`Wage`), median(`Wage`, na.rm=TRUE),`Wage`),\n",
      "                    `Special`= ifelse(is.na(`Special`), median(`Special`, na.rm=TRUE),`Special`),\n",
      "                    `Acceleration`= ifelse(is.na(`Acceleration`), median(`Acceleration`, na.rm=TRUE),`Acceleration`),\n",
      "                    `Aggression`= ifelse(is.na(`Aggression`), median(`Aggression`, na.rm=TRUE),`Aggression`),\n",
      "                    `Agility`= ifelse(is.na(`Agility`), median(`Agility`, na.rm=TRUE),`Agility`),\n",
      "                    `Balance`= ifelse(is.na(`Balance`), median(`Balance`, na.rm=TRUE),`Balance`),\n",
      "                    `Ball Control`= ifelse(is.na(`Ball Control`), median(`Ball Control`, na.rm=TRUE),`Ball Control`),\n",
      "                    `Composure`= ifelse(is.na(`Composure`), median(`Composure`, na.rm=TRUE),`Composure`),\n",
      "                    `Crossing`= ifelse(is.na(`Crossing`), median(`Crossing`, na.rm=TRUE),`Crossing`),\n",
      "                    `Curve`= ifelse(is.na(`Curve`), median(`Curve`, na.rm=TRUE),`Curve`),\n",
      "                    `Dribbling`= ifelse(is.na(`Dribbling`), median(`Dribbling`, na.rm=TRUE),`Dribbling`),\n",
      "                    `FK Accuracy`= ifelse(is.na(`FK Accuracy`), median(`FK Accuracy`, na.rm=TRUE),`FK Accuracy`),\n",
      "                    `Finishing`= ifelse(is.na(`Finishing`), median(`Finishing`, na.rm=TRUE),`Finishing`),\n",
      "                    `GK Diving`= ifelse(is.na(`GK Diving`), median(`GK Diving`, na.rm=TRUE),`GK Diving`),\n",
      "                    `GK Handling`= ifelse(is.na(`GK Handling`), median(`GK Handling`, na.rm=TRUE),`GK Handling`),\n",
      "                    `GK Kicking`= ifelse(is.na(`GK Kicking`), median(`GK Kicking`, na.rm=TRUE),`GK Kicking`),\n",
      "                    `GK Positioning`= ifelse(is.na(`GK Positioning`), median(`GK Positioning`, na.rm=TRUE),`GK Positioning`),\n",
      "                    `GK Reflexes`= ifelse(is.na(`GK Reflexes`), median(`GK Reflexes`, na.rm=TRUE),`GK Reflexes`),\n",
      "                    `Heading Accuracy`= ifelse(is.na(`Heading Accuracy`), median(`Heading Accuracy`, na.rm=TRUE),`Heading Accuracy`),\n",
      "                    `Interceptions`= ifelse(is.na(`Interceptions`), median(`Interceptions`, na.rm=TRUE),`Interceptions`),\n",
      "                    `Jumping`= ifelse(is.na(`Jumping`), median(`Jumping`, na.rm=TRUE),`Jumping`),\n",
      "                    `Long Passing`= ifelse(is.na(`Long Passing`), median(`Long Passing`, na.rm=TRUE),`Long Passing`),\n",
      "                    `Long Shots`= ifelse(is.na(`Long Shots`), median(`Long Shots`, na.rm=TRUE),`Long Shots`),\n",
      "                    `Marking`= ifelse(is.na(`Marking`), median(`Marking`, na.rm=TRUE),`Marking`),\n",
      "                    `Penalties`= ifelse(is.na(`Penalties`), median(`Penalties`, na.rm=TRUE),`Penalties`),\n",
      "                    `Positioning`= ifelse(is.na(`Positioning`), median(`Positioning`, na.rm=TRUE),`Positioning`),\n",
      "                    `Reactions`= ifelse(is.na(`Reactions`), median(`Reactions`, na.rm=TRUE),`Reactions`),\n",
      "                    `Short Passing`= ifelse(is.na(`Short Passing`), median(`Short Passing`, na.rm=TRUE),`Short Passing`),\n",
      "                    `Shot Power`= ifelse(is.na(`Shot Power`), median(`Shot Power`, na.rm=TRUE),`Shot Power`),\n",
      "                    `Sliding Tackle`= ifelse(is.na(`Sliding Tackle`), median(`Sliding Tackle`, na.rm=TRUE),`Sliding Tackle`),\n",
      "                    `Sprint Speed`= ifelse(is.na(`Sprint Speed`), median(`Sprint Speed`, na.rm=TRUE),`Sprint Speed`),\n",
      "                    `Stamina`= ifelse(is.na(`Stamina`), median(`Stamina`, na.rm=TRUE),`Stamina`),\n",
      "                    `Standing Tackle`= ifelse(is.na(`Standing Tackle`), median(`Standing Tackle`, na.rm=TRUE),`Standing Tackle`),\n",
      "                    `Strength`= ifelse(is.na(`Strength`), median(`Strength`, na.rm=TRUE),`Strength`),\n",
      "                    `Vision`= ifelse(is.na(`Vision`), median(`Vision`, na.rm=TRUE),`Vision`),\n",
      "                    `Volleys`= ifelse(is.na(`Volleys`), median(`Volleys`, na.rm=TRUE),`Volleys`),\n"
     ]
    }
   ],
   "source": [
    "vrs = [\n",
    "'Overall',\n",
    "'Value',\n",
    "'Wage',\n",
    "'Special',\n",
    "'Acceleration',\n",
    "'Aggression',\n",
    "'Agility',\n",
    "'Balance',\n",
    "'Ball Control',\n",
    "'Composure',\n",
    "'Crossing',\n",
    "'Curve',\n",
    "'Dribbling',\n",
    "'FK Accuracy',\n",
    "'Finishing',\n",
    "'GK Diving',\n",
    "'GK Handling',\n",
    "'GK Kicking',\n",
    "'GK Positioning',\n",
    "'GK Reflexes',\n",
    "'Heading Accuracy',\n",
    "'Interceptions',\n",
    "'Jumping',\n",
    "'Long Passing',\n",
    "'Long Shots',\n",
    "'Marking',\n",
    "'Penalties',\n",
    "'Positioning',\n",
    "'Reactions',\n",
    "'Short Passing',\n",
    "'Shot Power',\n",
    "'Sliding Tackle',\n",
    "'Sprint Speed',\n",
    "'Stamina',\n",
    "'Standing Tackle',\n",
    "'Strength',\n",
    "'Vision',\n",
    "'Volleys']\n",
    "\n",
    "for vr in vrs:\n",
    "        print(\"                    `{0}`= ifelse(is.na(`{0}`), median(`{0}`, na.rm=TRUE),`{0}`),\".format(vr))"
   ]
  },
  {
   "cell_type": "code",
   "execution_count": 12,
   "metadata": {},
   "outputs": [
    {
     "name": "stdout",
     "output_type": "stream",
     "text": [
      "                    `Overall`=median(`Overall`),\n",
      "                    `Value`=median(`Value`),\n",
      "                    `Wage`=median(`Wage`),\n",
      "                    `Special`=median(`Special`),\n",
      "                    `Acceleration`=median(`Acceleration`),\n",
      "                    `Aggression`=median(`Aggression`),\n",
      "                    `Agility`=median(`Agility`),\n",
      "                    `Balance`=median(`Balance`),\n",
      "                    `Ball Control`=median(`Ball Control`),\n",
      "                    `Composure`=median(`Composure`),\n",
      "                    `Crossing`=median(`Crossing`),\n",
      "                    `Curve`=median(`Curve`),\n",
      "                    `Dribbling`=median(`Dribbling`),\n",
      "                    `FK Accuracy`=median(`FK Accuracy`),\n",
      "                    `Finishing`=median(`Finishing`),\n",
      "                    `GK Diving`=median(`GK Diving`),\n",
      "                    `GK Handling`=median(`GK Handling`),\n",
      "                    `GK Kicking`=median(`GK Kicking`),\n",
      "                    `GK Positioning`=median(`GK Positioning`),\n",
      "                    `GK Reflexes`=median(`GK Reflexes`),\n",
      "                    `Heading Accuracy`=median(`Heading Accuracy`),\n",
      "                    `Interceptions`=median(`Interceptions`),\n",
      "                    `Jumping`=median(`Jumping`),\n",
      "                    `Long Passing`=median(`Long Passing`),\n",
      "                    `Long Shots`=median(`Long Shots`),\n",
      "                    `Marking`=median(`Marking`),\n",
      "                    `Penalties`=median(`Penalties`),\n",
      "                    `Positioning`=median(`Positioning`),\n",
      "                    `Reactions`=median(`Reactions`),\n",
      "                    `Short Passing`=median(`Short Passing`),\n",
      "                    `Shot Power`=median(`Shot Power`),\n",
      "                    `Sliding Tackle`=median(`Sliding Tackle`),\n",
      "                    `Sprint Speed`=median(`Sprint Speed`),\n",
      "                    `Stamina`=median(`Stamina`),\n",
      "                    `Standing Tackle`=median(`Standing Tackle`),\n",
      "                    `Strength`=median(`Strength`),\n",
      "                    `Vision`=median(`Vision`),\n",
      "                    `Volleys`=median(`Volleys`),\n"
     ]
    }
   ],
   "source": [
    "\n",
    "for vr in vrs:\n",
    "        print(\"                    `{0}`=median(`{0}`),\".format(vr))"
   ]
  },
  {
   "cell_type": "code",
   "execution_count": 15,
   "metadata": {},
   "outputs": [
    {
     "name": "stdout",
     "output_type": "stream",
     "text": [
      "                    `Overall_index`=`Overall`*100/mean(`Overall`),\n",
      "                    `Value_index`=`Value`*100/mean(`Value`),\n",
      "                    `Wage_index`=`Wage`*100/mean(`Wage`),\n",
      "                    `Special_index`=`Special`*100/mean(`Special`),\n",
      "                    `Acceleration_index`=`Acceleration`*100/mean(`Acceleration`),\n",
      "                    `Aggression_index`=`Aggression`*100/mean(`Aggression`),\n",
      "                    `Agility_index`=`Agility`*100/mean(`Agility`),\n",
      "                    `Balance_index`=`Balance`*100/mean(`Balance`),\n",
      "                    `Ball Control_index`=`Ball Control`*100/mean(`Ball Control`),\n",
      "                    `Composure_index`=`Composure`*100/mean(`Composure`),\n",
      "                    `Crossing_index`=`Crossing`*100/mean(`Crossing`),\n",
      "                    `Curve_index`=`Curve`*100/mean(`Curve`),\n",
      "                    `Dribbling_index`=`Dribbling`*100/mean(`Dribbling`),\n",
      "                    `FK Accuracy_index`=`FK Accuracy`*100/mean(`FK Accuracy`),\n",
      "                    `Finishing_index`=`Finishing`*100/mean(`Finishing`),\n",
      "                    `GK Diving_index`=`GK Diving`*100/mean(`GK Diving`),\n",
      "                    `GK Handling_index`=`GK Handling`*100/mean(`GK Handling`),\n",
      "                    `GK Kicking_index`=`GK Kicking`*100/mean(`GK Kicking`),\n",
      "                    `GK Positioning_index`=`GK Positioning`*100/mean(`GK Positioning`),\n",
      "                    `GK Reflexes_index`=`GK Reflexes`*100/mean(`GK Reflexes`),\n",
      "                    `Heading Accuracy_index`=`Heading Accuracy`*100/mean(`Heading Accuracy`),\n",
      "                    `Interceptions_index`=`Interceptions`*100/mean(`Interceptions`),\n",
      "                    `Jumping_index`=`Jumping`*100/mean(`Jumping`),\n",
      "                    `Long Passing_index`=`Long Passing`*100/mean(`Long Passing`),\n",
      "                    `Long Shots_index`=`Long Shots`*100/mean(`Long Shots`),\n",
      "                    `Marking_index`=`Marking`*100/mean(`Marking`),\n",
      "                    `Penalties_index`=`Penalties`*100/mean(`Penalties`),\n",
      "                    `Positioning_index`=`Positioning`*100/mean(`Positioning`),\n",
      "                    `Reactions_index`=`Reactions`*100/mean(`Reactions`),\n",
      "                    `Short Passing_index`=`Short Passing`*100/mean(`Short Passing`),\n",
      "                    `Shot Power_index`=`Shot Power`*100/mean(`Shot Power`),\n",
      "                    `Sliding Tackle_index`=`Sliding Tackle`*100/mean(`Sliding Tackle`),\n",
      "                    `Sprint Speed_index`=`Sprint Speed`*100/mean(`Sprint Speed`),\n",
      "                    `Stamina_index`=`Stamina`*100/mean(`Stamina`),\n",
      "                    `Standing Tackle_index`=`Standing Tackle`*100/mean(`Standing Tackle`),\n",
      "                    `Strength_index`=`Strength`*100/mean(`Strength`),\n",
      "                    `Vision_index`=`Vision`*100/mean(`Vision`),\n",
      "                    `Volleys_index`=`Volleys`*100/mean(`Volleys`),\n"
     ]
    }
   ],
   "source": [
    "\n",
    "for vr in vrs:\n",
    "        print(\"                    `{0}_index`=`{0}`*100/`{0}_mean`,\".format(vr))"
   ]
  },
  {
   "cell_type": "code",
   "execution_count": 17,
   "metadata": {},
   "outputs": [
    {
     "name": "stdout",
     "output_type": "stream",
     "text": [
      "                   `Overall_mean`= mean(`Overall`)\n",
      "                   `Value_mean`= mean(`Value`)\n",
      "                   `Wage_mean`= mean(`Wage`)\n",
      "                   `Special_mean`= mean(`Special`)\n",
      "                   `Acceleration_mean`= mean(`Acceleration`)\n",
      "                   `Aggression_mean`= mean(`Aggression`)\n",
      "                   `Agility_mean`= mean(`Agility`)\n",
      "                   `Balance_mean`= mean(`Balance`)\n",
      "                   `Ball Control_mean`= mean(`Ball Control`)\n",
      "                   `Composure_mean`= mean(`Composure`)\n",
      "                   `Crossing_mean`= mean(`Crossing`)\n",
      "                   `Curve_mean`= mean(`Curve`)\n",
      "                   `Dribbling_mean`= mean(`Dribbling`)\n",
      "                   `FK Accuracy_mean`= mean(`FK Accuracy`)\n",
      "                   `Finishing_mean`= mean(`Finishing`)\n",
      "                   `GK Diving_mean`= mean(`GK Diving`)\n",
      "                   `GK Handling_mean`= mean(`GK Handling`)\n",
      "                   `GK Kicking_mean`= mean(`GK Kicking`)\n",
      "                   `GK Positioning_mean`= mean(`GK Positioning`)\n",
      "                   `GK Reflexes_mean`= mean(`GK Reflexes`)\n",
      "                   `Heading Accuracy_mean`= mean(`Heading Accuracy`)\n",
      "                   `Interceptions_mean`= mean(`Interceptions`)\n",
      "                   `Jumping_mean`= mean(`Jumping`)\n",
      "                   `Long Passing_mean`= mean(`Long Passing`)\n",
      "                   `Long Shots_mean`= mean(`Long Shots`)\n",
      "                   `Marking_mean`= mean(`Marking`)\n",
      "                   `Penalties_mean`= mean(`Penalties`)\n",
      "                   `Positioning_mean`= mean(`Positioning`)\n",
      "                   `Reactions_mean`= mean(`Reactions`)\n",
      "                   `Short Passing_mean`= mean(`Short Passing`)\n",
      "                   `Shot Power_mean`= mean(`Shot Power`)\n",
      "                   `Sliding Tackle_mean`= mean(`Sliding Tackle`)\n",
      "                   `Sprint Speed_mean`= mean(`Sprint Speed`)\n",
      "                   `Stamina_mean`= mean(`Stamina`)\n",
      "                   `Standing Tackle_mean`= mean(`Standing Tackle`)\n",
      "                   `Strength_mean`= mean(`Strength`)\n",
      "                   `Vision_mean`= mean(`Vision`)\n",
      "                   `Volleys_mean`= mean(`Volleys`)\n"
     ]
    }
   ],
   "source": [
    "for vr in vrs:\n",
    "        print(\"                   `{0}_mean`= mean(`{0}`)\".format(vr))"
   ]
  },
  {
   "cell_type": "code",
   "execution_count": null,
   "metadata": {},
   "outputs": [],
   "source": [
    "for vr in vrs:\n",
    "        print(\"                    `{0}_index`,\".format(vr))"
   ]
  }
 ],
 "metadata": {
  "kernelspec": {
   "display_name": "Python 3",
   "language": "python",
   "name": "python3"
  },
  "language_info": {
   "codemirror_mode": {
    "name": "ipython",
    "version": 3
   },
   "file_extension": ".py",
   "mimetype": "text/x-python",
   "name": "python",
   "nbconvert_exporter": "python",
   "pygments_lexer": "ipython3",
   "version": "3.6.5"
  }
 },
 "nbformat": 4,
 "nbformat_minor": 2
}
